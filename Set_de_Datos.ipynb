{
  "nbformat": 4,
  "nbformat_minor": 0,
  "metadata": {
    "colab": {
      "provenance": [],
      "authorship_tag": "ABX9TyPRXJLfekDIVJ1D6GFo6TKu",
      "include_colab_link": true
    },
    "kernelspec": {
      "name": "python3",
      "display_name": "Python 3"
    },
    "language_info": {
      "name": "python"
    }
  },
  "cells": [
    {
      "cell_type": "markdown",
      "metadata": {
        "id": "view-in-github",
        "colab_type": "text"
      },
      "source": [
        "<a href=\"https://colab.research.google.com/github/gonzolopez18/python_ia/blob/main/Set_de_Datos.ipynb\" target=\"_parent\"><img src=\"https://colab.research.google.com/assets/colab-badge.svg\" alt=\"Open In Colab\"/></a>"
      ]
    },
    {
      "cell_type": "code",
      "execution_count": null,
      "metadata": {
        "id": "cFv6dSJuZKeS"
      },
      "outputs": [],
      "source": [
        "import pandas as pd\n",
        "\n",
        "datos = pd.read_csv(\"housing.csv\")"
      ]
    },
    {
      "cell_type": "code",
      "source": [
        "datos.head  ()\n"
      ],
      "metadata": {
        "id": "ukJM6apIaQVg"
      },
      "execution_count": null,
      "outputs": []
    }
  ]
}